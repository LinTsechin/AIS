{
 "cells": [
  {
   "cell_type": "markdown",
   "metadata": {},
   "source": [
    "# Project 2 - Adaptive Monte Carlo Method"
   ]
  },
  {
   "cell_type": "markdown",
   "metadata": {},
   "source": [
    "## Integration Problem\n",
    "\n",
    "下面的代码用于解决积分问题：\n",
    "$$\n",
    "\\mathrm { I } = \\int _ { 0 } ^ { 1 } h(x) \\mathrm { dx }\n",
    "$$\n",
    "\n",
    "测试函数为：\n",
    "\n",
    "$$\n",
    "h(x) = \\pi \\sin(\\pi x)\n",
    "$$"
   ]
  },
  {
   "cell_type": "code",
   "execution_count": 77,
   "metadata": {},
   "outputs": [],
   "source": [
    "%matplotlib inline\n",
    "\n",
    "import numpy as np\n",
    "import matplotlib.pyplot as plt\n",
    "import scipy.stats as stat\n",
    "\n",
    "def obj_fun(x):\n",
    "    return np.pi * np.sin(np.pi * x)"
   ]
  },
  {
   "cell_type": "markdown",
   "metadata": {},
   "source": [
    "## Naive Monte Carlo"
   ]
  },
  {
   "cell_type": "markdown",
   "metadata": {},
   "source": [
    "### 积分程序"
   ]
  },
  {
   "cell_type": "code",
   "execution_count": 63,
   "metadata": {},
   "outputs": [],
   "source": [
    "# Naive Monte Carlo\n",
    "# input:\n",
    "# -- obj_fun: function to integrate\n",
    "# -- times: num of random samples\n",
    "# output:\n",
    "# -- I: Estimate of integration\n",
    "# -- sigma2: sample variance\n",
    "def MC_Int(obj_fun, times):\n",
    "    I = 0\n",
    "    Sigma = 0\n",
    "    X = np.random.rand(times)\n",
    "    for i in range(times):\n",
    "        f_val = obj_fun(X[i])\n",
    "        I += f_val\n",
    "        Sigma += f_val**2\n",
    "    I /= times\n",
    "    return I, (Sigma - times*(I**2))/((times-1)*times)"
   ]
  },
  {
   "cell_type": "markdown",
   "metadata": {},
   "source": [
    "### 测试结果\n",
    "\n",
    "抽样次数为 $5 \\times 10^5$。"
   ]
  },
  {
   "cell_type": "code",
   "execution_count": 71,
   "metadata": {},
   "outputs": [
    {
     "data": {
      "text/plain": [
       "(1.9994652133113868, 1.867464200606012e-06)"
      ]
     },
     "execution_count": 71,
     "metadata": {},
     "output_type": "execute_result"
    }
   ],
   "source": [
    "MC_Int(obj_fun, times = 500000)"
   ]
  },
  {
   "cell_type": "markdown",
   "metadata": {},
   "source": [
    "## Adaptive Importance Sampling"
   ]
  },
  {
   "cell_type": "markdown",
   "metadata": {},
   "source": [
    "### 积分程序"
   ]
  },
  {
   "cell_type": "code",
   "execution_count": 65,
   "metadata": {},
   "outputs": [],
   "source": [
    "# for updating cut of intervals\n",
    "# input:\n",
    "# -- cut: origin cut of intervals\n",
    "# -- m_cut: sum of |h(x)| in each interval\n",
    "# -- K: parameter for cutting\n",
    "# output:\n",
    "# -- new_cut: new cut of intervals\n",
    "def cut_update(cut, m_cut, K):\n",
    "    \n",
    "    # num of intervals\n",
    "    N = len(cut) - 1\n",
    "    # new cut\n",
    "    new_cut = np.zeros(N+1)\n",
    "    # compute m[i]\n",
    "    m = m_cut\n",
    "    for i in range(N):\n",
    "        m[i] = m_cut[i] * (cut[i+1] - cut[i])\n",
    "    m = m / sum(m)\n",
    "    m = (K*m).astype(np.int) + 1\n",
    "    \n",
    "    # num of intervals to combine\n",
    "    comb = (sum(m)/N).astype(np.int) + 1\n",
    "    # count for num of combined intervals\n",
    "    count = 1\n",
    "    # current index in uncombined intervals\n",
    "    index = 0\n",
    "    # current position in uncombined intervals\n",
    "    pos = 0.0\n",
    "    # combine intervals\n",
    "    for i in range(N):\n",
    "        # length of small interval\n",
    "        incre = (cut[i+1] - cut[i]) / m[i]\n",
    "        for j in range(m[i]):\n",
    "            index += 1\n",
    "            pos += incre\n",
    "            if(index == comb):\n",
    "                new_cut[count] = pos\n",
    "                count += 1\n",
    "                index = 0\n",
    "    new_cut[N] = 1\n",
    "    return new_cut\n",
    "\n",
    "# Adaptive Importance Sampling\n",
    "# input:\n",
    "# -- obj_fun: function to integrate\n",
    "# -- n_sample: num of random samples in each iteration\n",
    "# -- n_iter: num of iterations\n",
    "# -- N: num of intervals to divide\n",
    "# -- K: parameter for dividing intervals\n",
    "# output:\n",
    "# -- I: Estimate of integration\n",
    "# -- sigma2: sample variance\n",
    "def AIS_Int(obj_fun, n_sample, n_iter, N, K):\n",
    "\n",
    "    # initial cut of [0, 1]\n",
    "    cut = np.linspace(0, N, N+1) / N\n",
    "    # estimate of each iteration\n",
    "    I = np.zeros(n_iter)\n",
    "    # sample variance of each iteration\n",
    "    sigma2 = np.zeros(n_iter)\n",
    "\n",
    "    for k in range(n_iter):\n",
    "        # uniform random number on [0, 1]\n",
    "        U = np.random.rand(n_sample)\n",
    "        # decide which interval to locale\n",
    "        W = np.random.randint(low = 0, high = N, size = n_sample)\n",
    "        # sample with distribution g(x)\n",
    "        X = np.zeros(n_sample)\n",
    "        # num of cut for each interval\n",
    "        m_cut = np.zeros(N)\n",
    "        \n",
    "        for i in range(n_sample):\n",
    "            # X[i]: sample with distribution g(x)\n",
    "            X[i] = (cut[W[i]+1] - cut[W[i]]) * U[i] + cut[W[i]]\n",
    "            # h(X[i])\n",
    "            h_val = obj_fun(X[i]) * N * (cut[W[i]+1] - cut[W[i]])\n",
    "            # compute sum of h(x[i])\n",
    "            I[k] += h_val\n",
    "            # compute sum of h(x[i])^2\n",
    "            sigma2[k] += h_val**2\n",
    "            # compute num of cut for each interval\n",
    "            m_cut[W[i]] += abs(h_val)\n",
    "        \n",
    "        # estimate of iteration k\n",
    "        I[k] /= n_sample\n",
    "        # variance of iteration k\n",
    "        sigma2[k] = (sigma2[k] - n_sample*(I[k]**2)) / ((n_sample - 1)*n_sample)\n",
    "        # update cut of intervals\n",
    "        cut = cut_update(cut, m_cut, K)\n",
    "    \n",
    "    # final variance\n",
    "    final_sigma2 = ((1/sigma2).sum())**(-1)\n",
    "    # final estimate\n",
    "    final_I = final_sigma2 * (I/sigma2).sum()\n",
    "    return final_I, final_sigma2"
   ]
  },
  {
   "cell_type": "markdown",
   "metadata": {},
   "source": [
    "### 测试结果\n",
    "\n",
    "迭代 $50$ 次，每次抽样 $10^4$，总抽样次数为 $5 \\times 10^5$。"
   ]
  },
  {
   "cell_type": "code",
   "execution_count": 81,
   "metadata": {},
   "outputs": [
    {
     "data": {
      "text/plain": [
       "(1.9999049334736658, 4.784806887756285e-07)"
      ]
     },
     "execution_count": 81,
     "metadata": {},
     "output_type": "execute_result"
    }
   ],
   "source": [
    "AIS_Int(obj_fun, n_sample=10000, n_iter=50, N=30, K=1000)"
   ]
  },
  {
   "cell_type": "markdown",
   "metadata": {},
   "source": [
    "### 置信区间验证\n",
    "\n",
    "查看精确值落入 $95%$ 置信区间的情况。"
   ]
  },
  {
   "cell_type": "code",
   "execution_count": 83,
   "metadata": {},
   "outputs": [
    {
     "data": {
      "text/plain": [
       "[<matplotlib.lines.Line2D at 0x124afa06470>]"
      ]
     },
     "execution_count": 83,
     "metadata": {},
     "output_type": "execute_result"
    },
    {
     "data": {
      "image/png": "[encoded data removed]",
      "text/plain": [
       "<Figure size 432x288 with 1 Axes>"
      ]
     },
     "metadata": {
      "needs_background": "light"
     },
     "output_type": "display_data"
    }
   ],
   "source": [
    "u = stat.norm.ppf(0.975)\n",
    "count = 0\n",
    "for T in range(100):\n",
    "    (I, sigma2) = AIS_Int(obj_fun, n_sample=1000, n_iter=10, N=10, K=1000)\n",
    "    e = np.sqrt(sigma2)\n",
    "    upper = I + u*e\n",
    "    lower = I - u*e\n",
    "    plt.plot(T, lower, 'r.', T, upper, 'g.')\n",
    "    if (lower <= 2 and upper >= 2):\n",
    "        count += 1\n",
    "plt.plot([0,100],[2,2],'--')"
   ]
  },
  {
   "cell_type": "code",
   "execution_count": 84,
   "metadata": {},
   "outputs": [
    {
     "data": {
      "text/plain": [
       "94"
      ]
     },
     "execution_count": 84,
     "metadata": {},
     "output_type": "execute_result"
    }
   ],
   "source": [
    "count"
   ]
  }
 ],
 "metadata": {
  "kernelspec": {
   "display_name": "Python 3",
   "language": "python",
   "name": "python3"
  },
  "language_info": {
   "codemirror_mode": {
    "name": "ipython",
    "version": 3
   },
   "file_extension": ".py",
   "mimetype": "text/x-python",
   "name": "python",
   "nbconvert_exporter": "python",
   "pygments_lexer": "ipython3",
   "version": "3.6.6"
  }
 },
 "nbformat": 4,
 "nbformat_minor": 2
}
